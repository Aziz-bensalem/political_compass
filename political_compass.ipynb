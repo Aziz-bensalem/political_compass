{
  "nbformat": 4,
  "nbformat_minor": 0,
  "metadata": {
    "colab": {
      "provenance": []
    },
    "kernelspec": {
      "name": "python3",
      "display_name": "Python 3"
    },
    "language_info": {
      "name": "python"
    }
  },
  "cells": [
    {
      "cell_type": "code",
      "source": [
        "!pip install gradio plotly pandas numpy\n"
      ],
      "metadata": {
        "colab": {
          "base_uri": "https://localhost:8080/"
        },
        "id": "Gqkz7h88L7cC",
        "outputId": "917fc4b9-707e-4d00-e737-d2634e4a7e0b"
      },
      "execution_count": 3,
      "outputs": [
        {
          "output_type": "stream",
          "name": "stdout",
          "text": [
            "Requirement already satisfied: gradio in /usr/local/lib/python3.11/dist-packages (5.31.0)\n",
            "Requirement already satisfied: plotly in /usr/local/lib/python3.11/dist-packages (5.24.1)\n",
            "Requirement already satisfied: pandas in /usr/local/lib/python3.11/dist-packages (2.2.2)\n",
            "Requirement already satisfied: numpy in /usr/local/lib/python3.11/dist-packages (2.0.2)\n",
            "Requirement already satisfied: aiofiles<25.0,>=22.0 in /usr/local/lib/python3.11/dist-packages (from gradio) (24.1.0)\n",
            "Requirement already satisfied: anyio<5.0,>=3.0 in /usr/local/lib/python3.11/dist-packages (from gradio) (4.9.0)\n",
            "Requirement already satisfied: fastapi<1.0,>=0.115.2 in /usr/local/lib/python3.11/dist-packages (from gradio) (0.115.12)\n",
            "Requirement already satisfied: ffmpy in /usr/local/lib/python3.11/dist-packages (from gradio) (0.6.0)\n",
            "Requirement already satisfied: gradio-client==1.10.1 in /usr/local/lib/python3.11/dist-packages (from gradio) (1.10.1)\n",
            "Requirement already satisfied: groovy~=0.1 in /usr/local/lib/python3.11/dist-packages (from gradio) (0.1.2)\n",
            "Requirement already satisfied: httpx>=0.24.1 in /usr/local/lib/python3.11/dist-packages (from gradio) (0.28.1)\n",
            "Requirement already satisfied: huggingface-hub>=0.28.1 in /usr/local/lib/python3.11/dist-packages (from gradio) (0.33.0)\n",
            "Requirement already satisfied: jinja2<4.0 in /usr/local/lib/python3.11/dist-packages (from gradio) (3.1.6)\n",
            "Requirement already satisfied: markupsafe<4.0,>=2.0 in /usr/local/lib/python3.11/dist-packages (from gradio) (3.0.2)\n",
            "Requirement already satisfied: orjson~=3.0 in /usr/local/lib/python3.11/dist-packages (from gradio) (3.10.18)\n",
            "Requirement already satisfied: packaging in /usr/local/lib/python3.11/dist-packages (from gradio) (24.2)\n",
            "Requirement already satisfied: pillow<12.0,>=8.0 in /usr/local/lib/python3.11/dist-packages (from gradio) (11.2.1)\n",
            "Requirement already satisfied: pydantic<2.12,>=2.0 in /usr/local/lib/python3.11/dist-packages (from gradio) (2.11.7)\n",
            "Requirement already satisfied: pydub in /usr/local/lib/python3.11/dist-packages (from gradio) (0.25.1)\n",
            "Requirement already satisfied: python-multipart>=0.0.18 in /usr/local/lib/python3.11/dist-packages (from gradio) (0.0.20)\n",
            "Requirement already satisfied: pyyaml<7.0,>=5.0 in /usr/local/lib/python3.11/dist-packages (from gradio) (6.0.2)\n",
            "Requirement already satisfied: ruff>=0.9.3 in /usr/local/lib/python3.11/dist-packages (from gradio) (0.11.13)\n",
            "Requirement already satisfied: safehttpx<0.2.0,>=0.1.6 in /usr/local/lib/python3.11/dist-packages (from gradio) (0.1.6)\n",
            "Requirement already satisfied: semantic-version~=2.0 in /usr/local/lib/python3.11/dist-packages (from gradio) (2.10.0)\n",
            "Requirement already satisfied: starlette<1.0,>=0.40.0 in /usr/local/lib/python3.11/dist-packages (from gradio) (0.46.2)\n",
            "Requirement already satisfied: tomlkit<0.14.0,>=0.12.0 in /usr/local/lib/python3.11/dist-packages (from gradio) (0.13.3)\n",
            "Requirement already satisfied: typer<1.0,>=0.12 in /usr/local/lib/python3.11/dist-packages (from gradio) (0.16.0)\n",
            "Requirement already satisfied: typing-extensions~=4.0 in /usr/local/lib/python3.11/dist-packages (from gradio) (4.14.0)\n",
            "Requirement already satisfied: uvicorn>=0.14.0 in /usr/local/lib/python3.11/dist-packages (from gradio) (0.34.3)\n",
            "Requirement already satisfied: fsspec in /usr/local/lib/python3.11/dist-packages (from gradio-client==1.10.1->gradio) (2025.3.2)\n",
            "Requirement already satisfied: websockets<16.0,>=10.0 in /usr/local/lib/python3.11/dist-packages (from gradio-client==1.10.1->gradio) (15.0.1)\n",
            "Requirement already satisfied: tenacity>=6.2.0 in /usr/local/lib/python3.11/dist-packages (from plotly) (9.1.2)\n",
            "Requirement already satisfied: python-dateutil>=2.8.2 in /usr/local/lib/python3.11/dist-packages (from pandas) (2.9.0.post0)\n",
            "Requirement already satisfied: pytz>=2020.1 in /usr/local/lib/python3.11/dist-packages (from pandas) (2025.2)\n",
            "Requirement already satisfied: tzdata>=2022.7 in /usr/local/lib/python3.11/dist-packages (from pandas) (2025.2)\n",
            "Requirement already satisfied: idna>=2.8 in /usr/local/lib/python3.11/dist-packages (from anyio<5.0,>=3.0->gradio) (3.10)\n",
            "Requirement already satisfied: sniffio>=1.1 in /usr/local/lib/python3.11/dist-packages (from anyio<5.0,>=3.0->gradio) (1.3.1)\n",
            "Requirement already satisfied: certifi in /usr/local/lib/python3.11/dist-packages (from httpx>=0.24.1->gradio) (2025.6.15)\n",
            "Requirement already satisfied: httpcore==1.* in /usr/local/lib/python3.11/dist-packages (from httpx>=0.24.1->gradio) (1.0.9)\n",
            "Requirement already satisfied: h11>=0.16 in /usr/local/lib/python3.11/dist-packages (from httpcore==1.*->httpx>=0.24.1->gradio) (0.16.0)\n",
            "Requirement already satisfied: filelock in /usr/local/lib/python3.11/dist-packages (from huggingface-hub>=0.28.1->gradio) (3.18.0)\n",
            "Requirement already satisfied: requests in /usr/local/lib/python3.11/dist-packages (from huggingface-hub>=0.28.1->gradio) (2.32.3)\n",
            "Requirement already satisfied: tqdm>=4.42.1 in /usr/local/lib/python3.11/dist-packages (from huggingface-hub>=0.28.1->gradio) (4.67.1)\n",
            "Requirement already satisfied: hf-xet<2.0.0,>=1.1.2 in /usr/local/lib/python3.11/dist-packages (from huggingface-hub>=0.28.1->gradio) (1.1.3)\n",
            "Requirement already satisfied: annotated-types>=0.6.0 in /usr/local/lib/python3.11/dist-packages (from pydantic<2.12,>=2.0->gradio) (0.7.0)\n",
            "Requirement already satisfied: pydantic-core==2.33.2 in /usr/local/lib/python3.11/dist-packages (from pydantic<2.12,>=2.0->gradio) (2.33.2)\n",
            "Requirement already satisfied: typing-inspection>=0.4.0 in /usr/local/lib/python3.11/dist-packages (from pydantic<2.12,>=2.0->gradio) (0.4.1)\n",
            "Requirement already satisfied: six>=1.5 in /usr/local/lib/python3.11/dist-packages (from python-dateutil>=2.8.2->pandas) (1.17.0)\n",
            "Requirement already satisfied: click>=8.0.0 in /usr/local/lib/python3.11/dist-packages (from typer<1.0,>=0.12->gradio) (8.2.1)\n",
            "Requirement already satisfied: shellingham>=1.3.0 in /usr/local/lib/python3.11/dist-packages (from typer<1.0,>=0.12->gradio) (1.5.4)\n",
            "Requirement already satisfied: rich>=10.11.0 in /usr/local/lib/python3.11/dist-packages (from typer<1.0,>=0.12->gradio) (13.9.4)\n",
            "Requirement already satisfied: markdown-it-py>=2.2.0 in /usr/local/lib/python3.11/dist-packages (from rich>=10.11.0->typer<1.0,>=0.12->gradio) (3.0.0)\n",
            "Requirement already satisfied: pygments<3.0.0,>=2.13.0 in /usr/local/lib/python3.11/dist-packages (from rich>=10.11.0->typer<1.0,>=0.12->gradio) (2.19.1)\n",
            "Requirement already satisfied: charset-normalizer<4,>=2 in /usr/local/lib/python3.11/dist-packages (from requests->huggingface-hub>=0.28.1->gradio) (3.4.2)\n",
            "Requirement already satisfied: urllib3<3,>=1.21.1 in /usr/local/lib/python3.11/dist-packages (from requests->huggingface-hub>=0.28.1->gradio) (2.4.0)\n",
            "Requirement already satisfied: mdurl~=0.1 in /usr/local/lib/python3.11/dist-packages (from markdown-it-py>=2.2.0->rich>=10.11.0->typer<1.0,>=0.12->gradio) (0.1.2)\n"
          ]
        }
      ]
    },
    {
      "cell_type": "code",
      "source": [
        "import gradio as gr\n",
        "import plotly.graph_objects as go\n",
        "import pandas as pd\n",
        "import numpy as np"
      ],
      "metadata": {
        "id": "m7mRyoOVL9Y5"
      },
      "execution_count": 4,
      "outputs": []
    },
    {
      "cell_type": "code",
      "source": [
        "QUESTIONS = [\n",
        "    {\"id\": 1, \"text\": \"Do you prioritize individual liberty over collective security?\", \"axis\": \"social\", \"direction\": -1},\n",
        "    {\"id\": 2, \"text\": \"Do you believe that a strong judicial system and law enforcement are essential to maintaining social order?\", \"axis\": \"social\", \"direction\": 1},\n",
        "    {\"id\": 3, \"text\": \"Do you affirm that everyone has the right to live freely as long as they do not infringe upon the rights of others?\", \"axis\": \"social\", \"direction\": -1},\n",
        "    {\"id\": 4, \"text\": \"Do you value the preservation of cultural traditions and societal norms as part of our collective identity?\", \"axis\": \"social\", \"direction\": 1},\n",
        "    {\"id\": 5, \"text\": \"Do you find government surveillance acceptable if it serves to protect society from crime?\", \"axis\": \"social\", \"direction\": 1},\n",
        "    {\"id\": 6, \"text\": \"Do you believe civil liberties must be preserved even during times of crisis?\", \"axis\": \"social\", \"direction\": -1},\n",
        "    {\"id\": 7, \"text\": \"Do you think that respect for authorities is necessary to maintain stability, regardless of differing opinions?\", \"axis\": \"social\", \"direction\": 1},\n",
        "    {\"id\": 8, \"text\": \"Do you consider peaceful protest a guaranteed right that must be protected?\", \"axis\": \"social\", \"direction\": -1},\n",
        "    {\"id\": 9, \"text\": \"Should the state promote moral values even if it limits some personal freedoms?\", \"axis\": \"social\", \"direction\": 1},\n",
        "    {\"id\": 10, \"text\": \"Is it important for society to enforce conformity to shared cultural norms?\", \"axis\": \"social\", \"direction\": 1},\n",
        "    {\"id\": 11, \"text\": \"Do you believe that minimizing government regulation of private businesses fosters entrepreneurial spirit and economic freedom?\", \"axis\": \"economic\", \"direction\": 1},\n",
        "    {\"id\": 12, \"text\": \"Do you think providing universal healthcare is a fundamental responsibility of the government?\", \"axis\": \"economic\", \"direction\": -1},\n",
        "    {\"id\": 13, \"text\": \"Do you agree that imposing fair taxes on the wealthy is necessary to achieve social equity?\", \"axis\": \"economic\", \"direction\": -1},\n",
        "    {\"id\": 14, \"text\": \"Do you hold that free markets are the best means to achieve economic prosperity compared to government intervention?\", \"axis\": \"economic\", \"direction\": 1},\n",
        "    {\"id\": 15, \"text\": \"Do you believe that workers have a legitimate right to form unions to protect their interests?\", \"axis\": \"economic\", \"direction\": -1},\n",
        "    {\"id\": 16, \"text\": \"Do you accept that profit maximization should be the primary driver of corporate decisions?\", \"axis\": \"economic\", \"direction\": 1},\n",
        "    {\"id\": 17, \"text\": \"Do you support the idea of a guaranteed basic income provided by the government to ensure economic dignity for all individuals?\", \"axis\": \"economic\", \"direction\": -1},\n",
        "    {\"id\": 18, \"text\": \"Do you consider the protection of private property rights a cornerstone of free societies?\", \"axis\": \"economic\", \"direction\": 1},\n",
        "    {\"id\": 19, \"text\": \"Should the government intervene to reduce income inequality?\", \"axis\": \"economic\", \"direction\": -1},\n",
        "    {\"id\": 20, \"text\": \"Is economic growth best achieved by encouraging competition and reducing state control?\", \"axis\": \"economic\", \"direction\": 1},\n",
        "]\n"
      ],
      "metadata": {
        "id": "NUWmkdC5MAP2"
      },
      "execution_count": 13,
      "outputs": []
    },
    {
      "cell_type": "code",
      "execution_count": 14,
      "metadata": {
        "id": "QY5shmUJKu5f"
      },
      "outputs": [],
      "source": [
        "\n",
        "\n",
        "def calculate_political_position(*answers):\n",
        "    \"\"\"Calculate political position from quiz answers\"\"\"\n",
        "    economic_score = 0\n",
        "    social_score = 0\n",
        "    economic_count = 0\n",
        "    social_count = 0\n",
        "\n",
        "    for i, question in enumerate(QUESTIONS):\n",
        "        answer_value = answers[i]\n",
        "        weighted_score = answer_value * question[\"direction\"]\n",
        "\n",
        "        if question[\"axis\"] == \"economic\":\n",
        "            economic_score += weighted_score\n",
        "            economic_count += 1\n",
        "        else:\n",
        "            social_score += weighted_score\n",
        "            social_count += 1\n",
        "\n",
        "    if economic_count > 0:\n",
        "        economic_score = (economic_score / economic_count) * 2.5\n",
        "    if social_count > 0:\n",
        "        social_score = (social_score / social_count) * 2.5\n",
        "\n",
        "    if economic_score > 0 and social_score > 0:\n",
        "        quadrant = \"Authoritarian Right\"\n",
        "    elif economic_score < 0 and social_score > 0:\n",
        "        quadrant = \"Authoritarian Left\"\n",
        "    elif economic_score < 0 and social_score < 0:\n",
        "        quadrant = \"Libertarian Left\"\n",
        "    else:\n",
        "        quadrant = \"Libertarian Right\"\n",
        "\n",
        "    fig = go.Figure()\n",
        "\n",
        "    fig.add_shape(type=\"rect\", x0=-10, y0=0, x1=0, y1=10,\n",
        "                  fillcolor=\"lightcoral\", opacity=0.3, line_width=0)\n",
        "    fig.add_shape(type=\"rect\", x0=0, y0=0, x1=10, y1=10,\n",
        "                  fillcolor=\"lightblue\", opacity=0.3, line_width=0)\n",
        "    fig.add_shape(type=\"rect\", x0=-10, y0=-10, x1=0, y1=0,\n",
        "                  fillcolor=\"lightgreen\", opacity=0.3, line_width=0)\n",
        "    fig.add_shape(type=\"rect\", x0=0, y0=-10, x1=10, y1=0,\n",
        "                  fillcolor=\"lightyellow\", opacity=0.3, line_width=0)\n",
        "\n",
        "    for i in range(-10, 11, 2):\n",
        "        fig.add_hline(y=i, line_dash=\"dot\", line_color=\"gray\", opacity=0.5)\n",
        "        fig.add_vline(x=i, line_dash=\"dot\", line_color=\"gray\", opacity=0.5)\n",
        "\n",
        "    fig.add_hline(y=0, line_color=\"black\", line_width=2)\n",
        "    fig.add_vline(x=0, line_color=\"black\", line_width=2)\n",
        "\n",
        "    fig.add_trace(go.Scatter(\n",
        "        x=[economic_score], y=[social_score],\n",
        "        mode='markers',\n",
        "        marker=dict(size=20, color='red', symbol='circle'),\n",
        "        name='Your Position',\n",
        "        hovertemplate='Economic: %{x:.1f}<br>Social: %{y:.1f}<extra></extra>'\n",
        "    ))\n",
        "\n",
        "    fig.add_annotation(x=-5, y=5, text=\"Authoritarian<br>Left\", showarrow=False, font_size=14)\n",
        "    fig.add_annotation(x=5, y=5, text=\"Authoritarian<br>Right\", showarrow=False, font_size=14)\n",
        "    fig.add_annotation(x=-5, y=-5, text=\"Libertarian<br>Left\", showarrow=False, font_size=14)\n",
        "    fig.add_annotation(x=5, y=-5, text=\"Libertarian<br>Right\", showarrow=False, font_size=14)\n",
        "\n",
        "    fig.update_layout(\n",
        "        title=\"Your Political Compass Result\",\n",
        "        xaxis_title=\"Economic Axis (Left ← → Right)\",\n",
        "        yaxis_title=\"Social Axis (Libertarian ← → Authoritarian)\",\n",
        "        xaxis=dict(range=[-10, 10], zeroline=False),\n",
        "        yaxis=dict(range=[-10, 10], zeroline=False),\n",
        "        width=700,\n",
        "        height=700,\n",
        "        showlegend=False\n",
        "    )\n",
        "\n",
        "    results_text = f\"\"\"\n",
        "    ## Your Political Position: {quadrant}\n",
        "\n",
        "    **Economic Score:** {economic_score:.1f} (Negative = Left, Positive = Right)\n",
        "    **Social Score:** {social_score:.1f} (Negative = Libertarian, Positive = Authoritarian)\n",
        "\n",
        "    ### Interpretation:\n",
        "    \"\"\"\n",
        "\n",
        "    if quadrant == \"Authoritarian Right\":\n",
        "        results_text += \"You tend to favor free-market economics while supporting strong government authority in social matters.\"\n",
        "    elif quadrant == \"Authoritarian Left\":\n",
        "        results_text += \"You tend to favor government intervention in economics while supporting strong government authority in social matters.\"\n",
        "    elif quadrant == \"Libertarian Left\":\n",
        "        results_text += \"You tend to favor government intervention in economics while supporting individual freedom in social matters.\"\n",
        "    else:\n",
        "        results_text += \"You tend to favor free-market economics while supporting individual freedom in social matters.\"\n",
        "\n",
        "    return fig, results_text\n",
        "\n"
      ]
    },
    {
      "cell_type": "code",
      "source": [
        "def create_quiz_interface():\n",
        "    inputs = []\n",
        "\n",
        "    for i, question in enumerate(QUESTIONS):\n",
        "        inputs.append(\n",
        "            gr.Slider(\n",
        "                minimum=1,\n",
        "                maximum=5,\n",
        "                value=3,\n",
        "                step=1,\n",
        "                label=f\"Q{i+1}: {question['text']}\",\n",
        "                info=\"1=Strongly Disagree, 2=Disagree, 3=Neutral, 4=Agree, 5=Strongly Agree\"\n",
        "            )\n",
        "        )\n",
        "\n",
        "    outputs = [\n",
        "        gr.Plot(label=\"Political Compass\"),\n",
        "        gr.Markdown(label=\"Results\")\n",
        "    ]\n",
        "\n",
        "    iface = gr.Interface(\n",
        "        fn=calculate_political_position,\n",
        "        inputs=inputs,\n",
        "        outputs=outputs,\n",
        "        title=\"🗳️ Political Compass Quiz\",\n",
        "        description=\"Answer all questions to discover your position on the political compass!\",\n",
        "        theme=gr.themes.Soft(),\n",
        "        allow_flagging=\"never\"\n",
        "    )\n",
        "\n",
        "    return iface"
      ],
      "metadata": {
        "id": "mCG6CA8JKvog"
      },
      "execution_count": 15,
      "outputs": []
    },
    {
      "cell_type": "code",
      "source": [
        "quiz_app = create_quiz_interface()\n",
        "quiz_app.launch(share=True, debug=True)\n",
        "\n",
        "print(\"🎉 Your Political Compass Quiz is now live!\")\n",
        "print(\"📋 The public URL will appear above - you can share it with anyone!\")\n",
        "print(\"⏰ Keep this cell running to keep the quiz active\")\n"
      ],
      "metadata": {
        "colab": {
          "base_uri": "https://localhost:8080/",
          "height": 747
        },
        "id": "qpuWc3dcMZ_6",
        "outputId": "2925d70e-d222-4913-8107-65e1caa8e43e"
      },
      "execution_count": 16,
      "outputs": [
        {
          "output_type": "stream",
          "name": "stderr",
          "text": [
            "/usr/local/lib/python3.11/dist-packages/gradio/interface.py:416: UserWarning:\n",
            "\n",
            "The `allow_flagging` parameter in `Interface` is deprecated.Use `flagging_mode` instead.\n",
            "\n"
          ]
        },
        {
          "output_type": "stream",
          "name": "stdout",
          "text": [
            "Colab notebook detected. This cell will run indefinitely so that you can see errors and logs. To turn off, set debug=False in launch().\n",
            "* Running on public URL: https://72ef77de98fc1a17f5.gradio.live\n",
            "\n",
            "This share link expires in 1 week. For free permanent hosting and GPU upgrades, run `gradio deploy` from the terminal in the working directory to deploy to Hugging Face Spaces (https://huggingface.co/spaces)\n"
          ]
        },
        {
          "output_type": "display_data",
          "data": {
            "text/plain": [
              "<IPython.core.display.HTML object>"
            ],
            "text/html": [
              "<div><iframe src=\"https://72ef77de98fc1a17f5.gradio.live\" width=\"100%\" height=\"500\" allow=\"autoplay; camera; microphone; clipboard-read; clipboard-write;\" frameborder=\"0\" allowfullscreen></iframe></div>"
            ]
          },
          "metadata": {}
        },
        {
          "output_type": "stream",
          "name": "stdout",
          "text": [
            "Keyboard interruption in main thread... closing server.\n",
            "Killing tunnel 127.0.0.1:7860 <> https://72ef77de98fc1a17f5.gradio.live\n",
            "🎉 Your Political Compass Quiz is now live!\n",
            "📋 The public URL will appear above - you can share it with anyone!\n",
            "⏰ Keep this cell running to keep the quiz active\n"
          ]
        }
      ]
    },
    {
      "cell_type": "code",
      "source": [],
      "metadata": {
        "id": "-ZYqHQqoNK3h"
      },
      "execution_count": 16,
      "outputs": []
    }
  ]
}